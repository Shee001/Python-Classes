{
 "cells": [
  {
   "cell_type": "markdown",
   "id": "cbe58162",
   "metadata": {},
   "source": [
    "# 🧾 Personal Finance Tracker - Final Capstone Project\n",
    "\n",
    "This project is a simple console-based application that allows users to track their income, expenses, and savings. It summarizes financial data and saves it in a CSV file.\n",
    "\n",
    "**Concepts Covered:**\n",
    "- Variables and data types\n",
    "- Lists and dictionaries\n",
    "- Functions and control flow\n",
    "- File handling with CSV\n",
    "- User input and string formatting\n",
    "- Loops and conditionals\n"
   ]
  },
  {
   "cell_type": "code",
   "execution_count": 1,
   "id": "4910bf72",
   "metadata": {},
   "outputs": [],
   "source": [
    "# Step 1: Import Required Modules\n",
    "import csv\n",
    "from datetime import datetime"
   ]
  },
  {
   "cell_type": "code",
   "execution_count": 2,
   "id": "aecd2c7c",
   "metadata": {},
   "outputs": [],
   "source": [
    "# Step 2: Initialize Data\n",
    "finance_data = {\n",
    "    \"income\": [],\n",
    "    \"expenses\": []\n",
    "}"
   ]
  },
  {
   "cell_type": "code",
   "execution_count": null,
   "id": "dcc73367",
   "metadata": {},
   "outputs": [],
   "source": [
    "# Define Function to Add Income\n",
    "def add_income():\n",
    "    try:\n",
    "        amount = float(input(\"Enter income amount: \"))\n",
    "        category = input(\"Enter income category (e.g. Salary, Gift): \")\n",
    "        description = input(\"Enter description: \")\n",
    "        date = datetime.now().strftime(\"%Y-%m-%d\")\n",
    "        finance_data[\"income\"].append((amount, category, description, date))\n",
    "        print(\"Income added successfully.\\n\")\n",
    "    except ValueError:\n",
    "        print(\"Invalid amount. Please enter a number.\\n\")"
   ]
  },
  {
   "cell_type": "code",
   "execution_count": 4,
   "id": "130e8432",
   "metadata": {},
   "outputs": [],
   "source": [
    "# Step 4: Define Function to Add Expense\n",
    "def add_expense():\n",
    "    try:\n",
    "        amount = float(input(\"Enter expense amount: \"))\n",
    "        category = input(\"Enter expense category (e.g. Food, Transport): \")\n",
    "        description = input(\"Enter description: \")\n",
    "        date = datetime.now().strftime(\"%Y-%m-%d\")\n",
    "        finance_data[\"expenses\"].append((amount, category, description, date))\n",
    "        print(\"Expense added successfully.\\n\")\n",
    "    except ValueError:\n",
    "        print(\"Invalid amount. Please enter a number.\\n\")"
   ]
  },
  {
   "cell_type": "code",
   "execution_count": 5,
   "id": "a8ffd802",
   "metadata": {},
   "outputs": [],
   "source": [
    "# Step 5: View Financial Summary\n",
    "def view_summary():\n",
    "    total_income = sum(entry[0] for entry in finance_data[\"income\"])\n",
    "    total_expenses = sum(entry[0] for entry in finance_data[\"expenses\"])\n",
    "    balance = total_income - total_expenses\n",
    "\n",
    "    print(\"\\n--- Financial Summary ---\")\n",
    "    print(f\"Total Income   : ${total_income:.2f}\")\n",
    "    print(f\"Total Expenses : ${total_expenses:.2f}\")\n",
    "    print(f\"Current Balance: ${balance:.2f}\\n\")"
   ]
  },
  {
   "cell_type": "code",
   "execution_count": 12,
   "id": "14f296a8",
   "metadata": {},
   "outputs": [],
   "source": [
    "# Step 6: Save to CSV File\n",
    "def save_to_csv():\n",
    "    with open(\"transactions.csv\", \"w\", newline=\"\") as file:\n",
    "        writer = csv.writer(file)\n",
    "        writer.writerow([\"Type\", \"Amount\", \"Category\", \"Description\", \"Date\"])\n",
    "\n",
    "        for entry in finance_data[\"income\"]:\n",
    "            writer.writerow([\"Income\", *entry])\n",
    "        for entry in finance_data[\"expenses\"]:\n",
    "            writer.writerow([\"Expense\", *entry])\n",
    "\n",
    "    print(\"Transactions saved to transactions.csv\\n\")"
   ]
  },
  {
   "cell_type": "code",
   "execution_count": 13,
   "id": "5d7bc0ab",
   "metadata": {},
   "outputs": [],
   "source": [
    "# Step 7: Main Menu\n",
    "def menu():\n",
    "    while True:\n",
    "        print(\"----- Personal Finance Tracker -----\")\n",
    "        print(\"1. Add Income\")\n",
    "        print(\"2. Add Expense\")\n",
    "        print(\"3. View Summary\")\n",
    "        print(\"4. Save to CSV\")\n",
    "        print(\"5. Exit\")\n",
    "\n",
    "        choice = input(\"Enter your choice (1-5): \")\n",
    "\n",
    "        if choice == \"1\":\n",
    "            add_income()\n",
    "        elif choice == \"2\":\n",
    "            add_expense()\n",
    "        elif choice == \"3\":\n",
    "            view_summary()\n",
    "        elif choice == \"4\":\n",
    "            save_to_csv()\n",
    "        elif choice == \"5\":\n",
    "            print(\"Thank you for using the finance tracker. Goodbye!\")\n",
    "            break\n",
    "        else:\n",
    "            print(\"Invalid choice. Please try again.\\n\")"
   ]
  },
  {
   "cell_type": "code",
   "execution_count": 14,
   "id": "e4a74b30",
   "metadata": {},
   "outputs": [
    {
     "name": "stdout",
     "output_type": "stream",
     "text": [
      "----- Personal Finance Tracker -----\n",
      "1. Add Income\n",
      "2. Add Expense\n",
      "3. View Summary\n",
      "4. Save to CSV\n",
      "5. Exit\n",
      "Income added successfully.\n",
      "\n",
      "----- Personal Finance Tracker -----\n",
      "1. Add Income\n",
      "2. Add Expense\n",
      "3. View Summary\n",
      "4. Save to CSV\n",
      "5. Exit\n",
      "Expense added successfully.\n",
      "\n",
      "----- Personal Finance Tracker -----\n",
      "1. Add Income\n",
      "2. Add Expense\n",
      "3. View Summary\n",
      "4. Save to CSV\n",
      "5. Exit\n",
      "\n",
      "--- Financial Summary ---\n",
      "Total Income   : $300000.00\n",
      "Total Expenses : $147000.00\n",
      "Current Balance: $153000.00\n",
      "\n",
      "----- Personal Finance Tracker -----\n",
      "1. Add Income\n",
      "2. Add Expense\n",
      "3. View Summary\n",
      "4. Save to CSV\n",
      "5. Exit\n",
      "Transactions saved to transactions.csv\n",
      "\n",
      "----- Personal Finance Tracker -----\n",
      "1. Add Income\n",
      "2. Add Expense\n",
      "3. View Summary\n",
      "4. Save to CSV\n",
      "5. Exit\n",
      "Thank you for using the finance tracker. Goodbye!\n"
     ]
    }
   ],
   "source": [
    "# Step 8: Run the Program\n",
    "menu()"
   ]
  }
 ],
 "metadata": {
  "kernelspec": {
   "display_name": "Python 3",
   "language": "python",
   "name": "python3"
  },
  "language_info": {
   "codemirror_mode": {
    "name": "ipython",
    "version": 3
   },
   "file_extension": ".py",
   "mimetype": "text/x-python",
   "name": "python",
   "nbconvert_exporter": "python",
   "pygments_lexer": "ipython3",
   "version": "3.13.2"
  }
 },
 "nbformat": 4,
 "nbformat_minor": 5
}
